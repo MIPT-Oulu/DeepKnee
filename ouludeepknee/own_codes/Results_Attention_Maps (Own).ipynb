{
 "cells": [
  {
   "cell_type": "code",
   "execution_count": 2,
   "metadata": {
    "collapsed": true
   },
   "outputs": [],
   "source": [
    "%matplotlib inline\n",
    "import matplotlib\n",
    "import matplotlib.pyplot as plt\n",
    "import numpy as np\n",
    "import os\n",
    "import gc\n",
    "import itertools\n",
    "\n",
    "import torch.utils.data as data\n",
    "import torch\n",
    "import torch.nn as nn\n",
    "import torch.nn.functional as F\n",
    "import torchvision.transforms as transforms\n",
    "from torch.autograd import Variable\n",
    "from tqdm import tqdm_notebook\n",
    "from PIL import Image\n",
    "from dataset import KneeGradingDataset\n",
    "from model import KneeNet\n",
    "from augmentation import CenterCrop\n",
    "from val_utils import validate_epoch\n",
    "from copy import deepcopy\n",
    "from sklearn.metrics import confusion_matrix, mean_squared_error, cohen_kappa_score, roc_auc_score, roc_curve, log_loss\n",
    "from sklearn.preprocessing import OneHotEncoder\n",
    "from dataset import get_pair\n",
    "from augmentation import CenterCrop\n",
    "import cv2"
   ]
  },
  {
   "cell_type": "code",
   "execution_count": 3,
   "metadata": {
    "collapsed": true
   },
   "outputs": [],
   "source": [
    "def load_picture16bit(fname):\n",
    "    patch_transform = transforms.Compose([\n",
    "            transforms.ToTensor(),\n",
    "            lambda x: x.float(),\n",
    "            normTransform,\n",
    "        ])\n",
    "    \n",
    "    \n",
    "    img = Image.open(fname)\n",
    "\n",
    "    tmp = np.array(img, dtype=float)\n",
    "    img = Image.fromarray(np.uint8(255*(tmp/65535.)))\n",
    "    img_orig = img.copy()\n",
    "    \n",
    "    cropper = CenterCrop(300)\n",
    "\n",
    "    \n",
    "    l, m = get_pair(cropper(img))\n",
    "\n",
    "    l = patch_transform(l)\n",
    "    m = patch_transform(m)\n",
    "    \n",
    "    return cropper(img), l.view(1, 1, 128, 128), m.view(1, 1, 128, 128)\n",
    "\n",
    "\n",
    "def smoth_edge_mask(s, w):\n",
    "    res = np.zeros((s+w*2, s+w*2))\n",
    "    res[w:w+s, w:w+s] = 1\n",
    "    res = cv2.blur(res,(2*w,2*w))\n",
    "    \n",
    "    return res[w:w+s, w:w+s]\n",
    "\n",
    "def inverse_pair_mapping(l, m, s, ps=128, smoothing=7):\n",
    "    pad = int(np.floor(s/3))\n",
    "    \n",
    "    l = cv2.resize(l, (ps, ps), cv2.INTER_CUBIC)\n",
    "    l *= smoth_edge_mask(l.shape[0], smoothing)\n",
    "    \n",
    "    m = cv2.resize(m, (ps, ps), cv2.INTER_CUBIC)\n",
    "    m *= smoth_edge_mask(m.shape[0], smoothing)\n",
    "    \n",
    "    hm = np.zeros((s, s))\n",
    "    hm[pad:pad+ps, 0:ps] = l\n",
    "    hm[pad:pad+ps, s-ps:] = m\n",
    "    \n",
    "    return hm"
   ]
  },
  {
   "cell_type": "code",
   "execution_count": 4,
   "metadata": {
    "collapsed": true,
    "scrolled": false
   },
   "outputs": [],
   "source": [
    "class KneeNetEnsemble(nn.Module):\n",
    "    def __init__(self, nets):\n",
    "        super().__init__()\n",
    "        net1 = nets[0]\n",
    "        net1.final = nets[0].final[1]\n",
    "        \n",
    "        net2 = nets[1]\n",
    "        net2.final = nets[1].final[1]\n",
    "        \n",
    "        net3 = nets[2]\n",
    "        net3.final = nets[2].final[1]\n",
    "        \n",
    "        self.net1 = deepcopy(net1)\n",
    "        self.net2 = deepcopy(net2)\n",
    "        self.net3 = deepcopy(net3)\n",
    "        \n",
    "        self.grads_l1 = []\n",
    "        self.grads_m1 = []\n",
    "        \n",
    "        self.grads_l2 = []\n",
    "        self.grads_m2 = []\n",
    "        \n",
    "        self.grads_l3 = []\n",
    "        self.grads_m3 = []\n",
    "        \n",
    "    def decopmpose_forward_avg(self, net, l, m):\n",
    "        l_o = net.branch(l)\n",
    "        m_o = net.branch(m)\n",
    "        \n",
    "        concat = torch.cat([l_o, m_o],1)\n",
    "        o = net.final(concat.view(l.size(0), 512))\n",
    "        return l_o, m_o, o\n",
    "    \n",
    "    def extract_features_branch(self, net, l, m, wl, wm):\n",
    "        def weigh_maps(weights, maps):\n",
    "            maps = maps.squeeze()\n",
    "            weights = weights.squeeze()\n",
    "\n",
    "            res = torch.zeros(maps.size()[-2:]).cuda()\n",
    "\n",
    "            for i, w in enumerate(weights):\n",
    "                res+=w*maps[i]\n",
    "\n",
    "            return res\n",
    "        # We need to re-assemble the architecture\n",
    "        branch = nn.Sequential(net.branch.block1,\n",
    "                               nn.MaxPool2d(2),\n",
    "                               net.branch.block2,\n",
    "                               nn.MaxPool2d(2),\n",
    "                               net.branch.block3)\n",
    "        \n",
    "        o_l = branch(l).data\n",
    "        o_m = branch(m).data             \n",
    "        # After extracting the features, we weigh them based on the provided weights\n",
    "        o_l = weigh_maps(wl, o_l)\n",
    "        o_m = weigh_maps(wm, o_m)\n",
    "        return F.relu(o_l), F.relu(o_m)\n",
    "    \n",
    "    def compute_gradcam(self, l, m, img_size, ps, smoothing=7):\n",
    "        wl, wm = self.grads_l1[0].data, self.grads_m1[0].data\n",
    "        ol1, om1 = self.extract_features_branch(self.net1, l, m, wl, wm)\n",
    "        \n",
    "        wl, wm = self.grads_l2[0].data, self.grads_m2[0].data\n",
    "        ol2, om2 = self.extract_features_branch(self.net1, l, m, wl, wm)\n",
    "        \n",
    "        wl, wm = self.grads_l3[0].data, self.grads_m3[0].data\n",
    "        ol3, om3 = self.extract_features_branch(self.net1, l, m, wl, wm)\n",
    "\n",
    "        l_out = (ol1 + ol2 + ol3) / 3.\n",
    "\n",
    "        \n",
    "        m_out = (om1 + om2 + om3) / 3.\n",
    "\n",
    "        heatmap = inverse_pair_mapping(l_out.data.cpu().numpy(), \n",
    "                                       np.fliplr(m_out.data.cpu().numpy()),\n",
    "                                       img_size, ps, smoothing)\n",
    "        \n",
    "        \n",
    "        heatmap -= heatmap.min()\n",
    "        heatmap /= heatmap.max()\n",
    "        \n",
    "        return heatmap\n",
    "        \n",
    "    def forward(self, l, m):\n",
    "        self.grads_l1 = []\n",
    "        self.grads_m1 = []\n",
    "        \n",
    "        self.grads_l2 = []\n",
    "        self.grads_m2 = []\n",
    "        \n",
    "        self.grads_l3 = []\n",
    "        self.grads_m3 = []\n",
    "        \n",
    "        # Producing the branch outputs and registering the corresponding hooks for attention maps\n",
    "        # Net 1\n",
    "        l_o1, m_o1, o1 = self.decopmpose_forward_avg(self.net1, l, m)\n",
    "        l_o1.register_hook(lambda grad: self.grads_l1.append(grad))\n",
    "        m_o1.register_hook(lambda grad: self.grads_m1.append(grad))\n",
    "        # Net 2\n",
    "        l_o2, m_o2, o2 = self.decopmpose_forward_avg(self.net2, l, m)\n",
    "        l_o2.register_hook(lambda grad: self.grads_l2.append(grad))\n",
    "        m_o2.register_hook(lambda grad: self.grads_m2.append(grad))\n",
    "        # Net 3\n",
    "        l_o3, m_o3, o3 = self.decopmpose_forward_avg(self.net3, l, m)\n",
    "        l_o3.register_hook(lambda grad: self.grads_l3.append(grad))\n",
    "        m_o3.register_hook(lambda grad: self.grads_m3.append(grad))\n",
    "\n",
    "        \n",
    "        return o1+o2+o3"
   ]
  },
  {
   "cell_type": "code",
   "execution_count": 5,
   "metadata": {
    "scrolled": false
   },
   "outputs": [
    {
     "name": "stdout",
     "output_type": "stream",
     "text": [
      "epoch_64.pth 32000\n",
      "epoch_97.pth 48500\n",
      "epoch_96.pth 48000\n"
     ]
    }
   ],
   "source": [
    "FOLDS_LOCATION = '../snapshots_knee_grading/'\n",
    "snaps = ['2017_10_10_12_30_42', '2017_10_10_12_30_46', '2017_10_10_12_30_49']\n",
    "\n",
    "\n",
    "\n",
    "mean_vector, std_vector = np.load(os.path.join('../snapshots_knee_grading/mean_std.npy'))\n",
    "normTransform = transforms.Normalize(mean_vector, std_vector)\n",
    "patch_transform = transforms.Compose([\n",
    "        transforms.ToTensor(),\n",
    "        lambda x: x.float(),\n",
    "        normTransform,\n",
    "    ])\n",
    "\n",
    "test_files = os.listdir('../../KL_data/test/')\n",
    "val_ds = KneeGradingDataset('../../KL_data/', \n",
    "                            test_files, \n",
    "                            transform=patch_transform,\n",
    "                            augment=CenterCrop(300),\n",
    "                            stage='test')\n",
    "\n",
    "val_loader = data.DataLoader(val_ds, batch_size=64, num_workers=10)\n",
    "\n",
    "avg_preds = {}\n",
    "labels = {}\n",
    "\n",
    "nets = []\n",
    "for fold in snaps:\n",
    "\n",
    "    \n",
    "    for snp_name in os.listdir(os.path.join(FOLDS_LOCATION, fold)):\n",
    "        if snp_name.endswith('pth'):\n",
    "            break\n",
    "            \n",
    "    print(snp_name, int(snp_name.split('_')[1][:-4])*500)\n",
    "    snap_path = os.path.join(FOLDS_LOCATION, fold, snp_name)\n",
    "    net = nn.DataParallel(KneeNet(64, 0.2, True))\n",
    "    net.load_state_dict(torch.load(snap_path))\n",
    "    nets.append(deepcopy(net.module))"
   ]
  },
  {
   "cell_type": "code",
   "execution_count": 6,
   "metadata": {
    "scrolled": false
   },
   "outputs": [
    {
     "name": "stderr",
     "output_type": "stream",
     "text": [
      "Processing: 100%|█████████████████████████████████████████| 94/94 [00:48<00:00,  7.98it/s]\n"
     ]
    }
   ],
   "source": [
    "net = nn.DataParallel(KneeNetEnsemble(nets))\n",
    "net.cuda();\n",
    "val_loss, probs, truth, names = validate_epoch(net, val_loader, F.cross_entropy)"
   ]
  },
  {
   "cell_type": "code",
   "execution_count": 7,
   "metadata": {
    "collapsed": true
   },
   "outputs": [],
   "source": [
    "preds = probs.argmax(1)\n",
    "# Validation metrics\n",
    "cm = confusion_matrix(truth, preds)\n",
    "kappa = np.round(cohen_kappa_score(truth, preds, weights=\"quadratic\"),10)\n",
    "acc = np.round(100*np.mean(cm.diagonal().astype(float)/cm.sum(axis=1)),4)\n",
    "mse = np.round(mean_squared_error(truth, preds), 4)\n",
    "\n",
    "fpr1, tpr1, _ = roc_curve(truth>1, probs[:,2:].sum(1))\n",
    "auc = np.round(roc_auc_score(truth>1, probs[:,2:].sum(1)),4)\n",
    "\n",
    "\n",
    "loss=np.round(log_loss(truth, probs),4)"
   ]
  },
  {
   "cell_type": "code",
   "execution_count": 8,
   "metadata": {},
   "outputs": [
    {
     "data": {
      "image/png": "[encoded data removed]",
      "text/plain": [
       "<matplotlib.figure.Figure at 0x7f9878fca6a0>"
      ]
     },
     "metadata": {},
     "output_type": "display_data"
    },
    {
     "data": {
      "image/png": "[encoded data removed]",
      "text/plain": [
       "<matplotlib.figure.Figure at 0x7f98fc8dfa90>"
      ]
     },
     "metadata": {},
     "output_type": "display_data"
    },
    {
     "name": "stdout",
     "output_type": "stream",
     "text": [
      "Kappa: 0.8270777646\n",
      "Avg. class accuracy 66.7137\n",
      "MSE 0.482\n",
      "AUC 0.9308\n",
      "Cross-entropy: 1.0898\n"
     ]
    }
   ],
   "source": [
    "matplotlib.rcParams.update({'font.size': 16})\n",
    "plt.figure(figsize=(6,6))\n",
    "cm = np.round(cm.astype('float') / cm.sum(axis=1)[:, np.newaxis],2)\n",
    "plt.imshow(cm, interpolation='nearest', cmap=plt.cm.Greens, resample=False)\n",
    "classes = ['No OA', 'Doubtful OA', 'Early OA','Mild OA','End-stage']\n",
    "#plt.colorbar()\n",
    "tick_marks = np.arange(len(classes))\n",
    "\n",
    "#plt.yticks(tick_marks, classes)\n",
    "\n",
    "thresh = cm.max() / 2.\n",
    "for i, j in itertools.product(range(cm.shape[0]), range(cm.shape[1])):\n",
    "    plt.text(j, i, cm[i, j]*100,\n",
    "             horizontalalignment=\"center\",\n",
    "             color=\"white\" if cm[i, j] > thresh else \"black\")\n",
    "\n",
    "plt.tight_layout()\n",
    "plt.ylabel('True label')\n",
    "plt.xlabel('Predicted label')\n",
    "plt.savefig('conf_Our.png', bbox_inches='tight', dpi=350)\n",
    "Image.open('conf_Our.png').convert('RGB').save('conf_Our.jpg', format='JPEG', subsampling=0, quality=100)\n",
    "plt.show()\n",
    "\n",
    "matplotlib.rcParams.update({'font.size': 16})\n",
    "plt.figure(figsize=(6,6))\n",
    "plt.plot(fpr1, tpr1, label='Own'.format(preds.shape[0]),lw=2, c='b')\n",
    "plt.grid()\n",
    "plt.xlabel('False positive rate')\n",
    "plt.ylabel('True positive rate')\n",
    "plt.xlim(0,1)\n",
    "plt.ylim(0,1)\n",
    "plt.tight_layout()\n",
    "plt.savefig('ROC_AUC_test.png', bbox_inches='tight', dpi=300)\n",
    "Image.open('ROC_AUC_test.png').convert('RGB').save('ROC_AUC_test.jpg', format='JPEG', subsampling=0, quality=100)\n",
    "plt.show()\n",
    "\n",
    "print('Kappa:', kappa)\n",
    "print('Avg. class accuracy', acc)\n",
    "print('MSE', mse)\n",
    "print('AUC',auc)\n",
    "print('Cross-entropy:', loss)"
   ]
  },
  {
   "cell_type": "code",
   "execution_count": 11,
   "metadata": {
    "scrolled": false
   },
   "outputs": [
    {
     "data": {
      "application/vnd.jupyter.widget-view+json": {
       "model_id": "43b5b95a368b46d884cea30aa7677882"
      }
     },
     "metadata": {},
     "output_type": "display_data"
    },
    {
     "name": "stdout",
     "output_type": "stream",
     "text": [
      "\n",
      "\n"
     ]
    }
   ],
   "source": [
    "# Producing the GradCAM output using the equations provided in the article\n",
    "if not os.path.isdir('../probs_own'):\n",
    "    os.mkdir('../heatmaps_own/')\n",
    "    os.mkdir('../probs_own/')\n",
    "    \n",
    "    \n",
    "to_check = set(np.loadtxt('../maps_check.txt', dtype=str).tolist())\n",
    "pbar = tqdm_notebook(total=len(to_check))\n",
    "for fname in test_files:\n",
    "    if not ('_'.join(fname.split('_')[:3]) in to_check):\n",
    "        continue\n",
    "    img, l, m = load_picture16bit('../../KL_data/test/'+fname)\n",
    "    net.train(True)\n",
    "    net.zero_grad()\n",
    "    out = net.module(Variable(l.cuda()), Variable(m.cuda()))\n",
    "    ohe = OneHotEncoder(sparse=False, n_values=5)\n",
    "    index = np.argmax(out.cpu().data.numpy(), axis=1).reshape(-1, 1)\n",
    "    out.backward(torch.from_numpy(ohe.fit_transform(index)).float().cuda())\n",
    "\n",
    "    heatmap = net.module.compute_gradcam(Variable(l.cuda()), Variable(m.cuda()), 300, 128, 7)\n",
    "\n",
    "    plt.figure(figsize=(7,7))\n",
    "    plt.imshow(np.array(img), cmap=plt.cm.Greys_r)\n",
    "    plt.imshow(heatmap, cmap=plt.cm.jet, alpha=0.3)\n",
    "    plt.xticks([])\n",
    "    plt.yticks([])\n",
    "    plt.savefig('../heatmaps_own/'+fname, bbox_inches='tight', dpi=300, pad_inches = 0)\n",
    "    plt.close()\n",
    "\n",
    "\n",
    "    plt.figure(figsize=(7,1))\n",
    "    probs = F.softmax(out).cpu().data[0].numpy()\n",
    "    for kl in range(5):\n",
    "        plt.text(kl-0.2, 0.35, \"%.2f\" % np.round(probs[kl],2), fontsize=15)\n",
    "    plt.bar(np.array([0, 1, 2, 3, 4]),probs, color='red',align='center',tick_label=['KL0','KL1','KL2','KL3','KL4'],alpha=0.3)\n",
    "    plt.ylim(0,1)\n",
    "    plt.yticks([])\n",
    "    plt.savefig('../probs_own/'+fname, bbox_inches='tight', dpi=300, pad_inches = 0)\n",
    "    plt.close()\n",
    "    pbar.update(1)\n",
    "    \n",
    "pbar.close()"
   ]
  },
  {
   "cell_type": "code",
   "execution_count": null,
   "metadata": {
    "collapsed": true
   },
   "outputs": [],
   "source": []
  }
 ],
 "metadata": {
  "kernelspec": {
   "display_name": "Python 3",
   "language": "python",
   "name": "python3"
  },
  "language_info": {
   "codemirror_mode": {
    "name": "ipython",
    "version": 3
   },
   "file_extension": ".py",
   "mimetype": "text/x-python",
   "name": "python",
   "nbconvert_exporter": "python",
   "pygments_lexer": "ipython3",
   "version": "3.6.1"
  }
 },
 "nbformat": 4,
 "nbformat_minor": 2
}
